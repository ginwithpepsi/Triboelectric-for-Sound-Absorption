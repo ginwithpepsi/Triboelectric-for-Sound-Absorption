{
 "cells": [
  {
   "attachments": {},
   "cell_type": "markdown",
   "metadata": {},
   "source": [
    "angle generation"
   ]
  },
  {
   "cell_type": "code",
   "execution_count": 20,
   "metadata": {},
   "outputs": [],
   "source": [
    "# without saving\n",
    "import numpy as np\n",
    "import matplotlib.pyplot as plt\n",
    "\n",
    "num_vectors = 5000\n",
    "x_start = np.random.uniform(-15, 15, size=num_vectors)\n",
    "y_start = np.random.uniform(-15, 15, size=num_vectors)\n",
    "x_end = np.random.uniform(-15, 15, size=num_vectors)\n",
    "y_end = np.random.uniform(-15, 15, size=num_vectors)\n",
    "\n",
    "mask = (np.sqrt(x_start**2 + y_start**2) > 12.5) & (np.sqrt(x_end**2 + y_end**2) > 12.5)\n",
    "vectors = np.column_stack((x_start[mask], y_start[mask], x_end[mask], y_end[mask]))\n",
    "\n",
    "angles = []\n",
    "if vectors.shape[0] > 1: \n",
    "    for i in range(vectors.shape[0]):\n",
    "        vector1 = vectors[i]\n",
    "        vector2 = vectors[i + 1:]\n",
    "        dot_product = np.sum(vector1 * vector2, axis=1)\n",
    "        magnitude_product = np.linalg.norm(vector1) * np.linalg.norm(vector2, axis=1)\n",
    "        angle = np.arccos(dot_product / magnitude_product)\n",
    "        angles.extend(angle)\n",
    "\n",
    "    angles = np.rad2deg(angles)\n",
    "    # np.savetxt('random_fiber_angles.csv', angles, delimiter=';')\n",
    "else:\n",
    "    print(\"No vectors found satisfying the condition.\")\n"
   ]
  },
  {
   "cell_type": "code",
   "execution_count": 24,
   "metadata": {},
   "outputs": [
    {
     "name": "stdout",
     "output_type": "stream",
     "text": [
      "Angle Probability Distribution Result:\n",
      "total vector number: 5000\n",
      "total angle number: 491536\n",
      "Mean: 90.0065\n",
      "Median: 90.0055\n",
      "Standard Deviation: 33.6070\n"
     ]
    }
   ],
   "source": [
    "# print results\n",
    "angle_mean = np.mean(angles)\n",
    "angle_median = np.median(angles)\n",
    "angle_std = np.std(angles)\n",
    "\n",
    "print(\"Angle Probability Distribution Result:\")\n",
    "print(\"total vector number: \"+str(num_vectors))\n",
    "print(\"total angle number: \"+str(len(angles)))\n",
    "print(f\"Mean: {angle_mean:.4f}\")\n",
    "print(f\"Median: {angle_median:.4f}\")\n",
    "print(f\"Standard Deviation: {angle_std:.4f}\")"
   ]
  },
  {
   "cell_type": "code",
   "execution_count": 25,
   "metadata": {},
   "outputs": [
    {
     "name": "stdout",
     "output_type": "stream",
     "text": [
      "Sin(Angle) Probability Distribution Result:\n",
      "Mean: 0.8414\n",
      "Median: 0.9334\n",
      "Standard Deviation: 0.2058\n"
     ]
    }
   ],
   "source": [
    "# calculayte sin values and save\n",
    "sin_angles = np.sin(np.deg2rad(angles))\n",
    "# np.savetxt('arcsin b values distribution.csv',sin_angles, delimiter=';')\n",
    "\n",
    "print(\"Sin(Angle) Probability Distribution Result:\")\n",
    "print(f\"Mean: {np.mean(sin_angles):.4f}\")\n",
    "print(f\"Median: {np.median(sin_angles):.4f}\")\n",
    "print(f\"Standard Deviation: {np.std(sin_angles):.4f}\")"
   ]
  },
  {
   "cell_type": "code",
   "execution_count": 26,
   "metadata": {},
   "outputs": [
    {
     "name": "stdout",
     "output_type": "stream",
     "text": [
      "Reciprocal Sin(Angle) Probability Distribution Result:\n",
      "Mean: 1.3818\n",
      "Median: 1.0714\n",
      "Standard Deviation: 1.0717\n"
     ]
    }
   ],
   "source": [
    "reciprocal_sin_angles = 1/sin_angles\n",
    "print(\"Reciprocal Sin(Angle) Probability Distribution Result:\")\n",
    "print(f\"Mean: {np.mean(reciprocal_sin_angles):.4f}\")\n",
    "print(f\"Median: {np.median(reciprocal_sin_angles):.4f}\")\n",
    "print(f\"Standard Deviation: {np.std(reciprocal_sin_angles):.4f}\")"
   ]
  },
  {
   "cell_type": "code",
   "execution_count": null,
   "metadata": {},
   "outputs": [],
   "source": [
    "# run and save as csv\n",
    "# Calculate angle between two vectors\n",
    "def calculate_angle(vector1, vector2):\n",
    "    dot_product = np.dot(vector1, vector2)\n",
    "    magnitude_product = np.linalg.norm(vector1) * np.linalg.norm(vector2)\n",
    "    return np.arccos(dot_product / magnitude_product)\n",
    "\n",
    "# # Perform Monte Carlo simulation\n",
    "# vectors = generate_random_vectors(num_iterations)\n",
    "\n",
    "# Calculate angles between the random vectors\n",
    "num_vectors = 5000\n",
    "angles = []\n",
    "for i in range(num_vectors):\n",
    "    for j in range(i + 1, num_vectors):\n",
    "        angle = calculate_angle(vectors[i], vectors[j])\n",
    "        angles.append(angle)\n",
    "\n",
    "angles = np.rad2deg(angles)\n",
    "np.savetxt('random fiber angles 2.csv',angles,delimiter=';')\n"
   ]
  }
 ],
 "metadata": {
  "kernelspec": {
   "display_name": "sensortest",
   "language": "python",
   "name": "python3"
  },
  "language_info": {
   "codemirror_mode": {
    "name": "ipython",
    "version": 3
   },
   "file_extension": ".py",
   "mimetype": "text/x-python",
   "name": "python",
   "nbconvert_exporter": "python",
   "pygments_lexer": "ipython3",
   "version": "3.9.16"
  },
  "orig_nbformat": 4
 },
 "nbformat": 4,
 "nbformat_minor": 2
}
